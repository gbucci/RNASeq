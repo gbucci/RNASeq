{
  "nbformat": 4,
  "nbformat_minor": 0,
  "metadata": {
    "colab": {
      "name": "ColabMainRNAKallisto_v_0.3.ipynb",
      "provenance": [],
      "collapsed_sections": [],
      "toc_visible": true,
      "include_colab_link": true
    },
    "kernelspec": {
      "name": "python3",
      "display_name": "Python 3"
    }
  },
  "cells": [
    {
      "cell_type": "markdown",
      "metadata": {
        "id": "view-in-github",
        "colab_type": "text"
      },
      "source": [
        "<a href=\"https://colab.research.google.com/github/gbucci/RNASeq/blob/master/ColabMainRNAKallisto_v_0_3.ipynb\" target=\"_parent\"><img src=\"https://colab.research.google.com/assets/colab-badge.svg\" alt=\"Open In Colab\"/></a>"
      ]
    },
    {
      "cell_type": "markdown",
      "metadata": {
        "id": "3_nCxfZaTpDb",
        "colab_type": "text"
      },
      "source": [
        "#Using the notebook\n",
        "Note that the notebook is divided in *TEXT* and `CODE` blocks.\n",
        "\n",
        "The `CODE` blocks (shaded in grey) also have a *RUN* button on the left side, which cause the `code block` to be executed. Once the spinnin' wheel stops user can procede to the next code block.\n",
        "1. clicking on the |> *RUN* icon on the upper left in code block, will cause the code execution.\n",
        "2. clicking on the X *clear output* on the left , will clean the dash area."
      ]
    },
    {
      "cell_type": "markdown",
      "metadata": {
        "colab_type": "text",
        "id": "Dbm4sQfcAvIY"
      },
      "source": [
        "#Grant access to your gDrive space\n",
        "\n",
        "By running this cell, you will be asked to click on a link to have access to your gDrive disk space (to permanently store the results)\n",
        "- Click on it: a new page opens\n",
        "- Click on the bottom button to enter you gDrive password.\n",
        "- Copy the authorization code\n",
        "- Go back to the notebook and paste the code\n",
        "- Click enter"
      ]
    },
    {
      "cell_type": "code",
      "metadata": {
        "id": "pRpKa0ZTxOYc",
        "colab_type": "code",
        "colab": {}
      },
      "source": [
        "from google.colab import drive\n",
        "\n",
        "drive.mount('/content/gdrive')"
      ],
      "execution_count": 0,
      "outputs": []
    },
    {
      "cell_type": "code",
      "metadata": {
        "id": "-B3W1Cu4yMuS",
        "colab_type": "code",
        "colab": {}
      },
      "source": [
        "! mkdir -p /content/gdrive/My\\ Drive/Colab\\ Notebooks/\n",
        "!ls /content/gdrive/My\\ Drive/Colab\\ Notebooks/"
      ],
      "execution_count": 0,
      "outputs": []
    },
    {
      "cell_type": "markdown",
      "metadata": {
        "id": "YUxyS6cr0oZj",
        "colab_type": "text"
      },
      "source": [
        "---\n",
        "#Identify SRA Accession in The Scientific Article \n",
        "---\n",
        "### [Interferon-γ regulates cellular metabolism and mRNA translation to potentiate macrophage activation](https://www.ncbi.nlm.nih.gov/pubmed/26147685).\n",
        "\n",
        "Original raw data are deposited on a public repository.\n",
        "In this case files are stored in SRA format in the corresponding [NCBI database](https://www.ncbi.nlm.nih.gov/geo/query/acc.cgi?acc=GSE66810)\n",
        "\n",
        "\n",
        ">If you follow the above link you should see where the original data have been deposited. \n",
        "\n",
        "Indeed Scientific journals require that the raw data are made available to public and hosted on a dedicated platform: EBI, GEO, SRA etc...\n",
        "\n",
        ">*We are interested in the follwing SRA objects from the original article*\n",
        "\n",
        "\n",
        "\n",
        "SRP056098|Mock RNA | IFNg RNA\n",
        "---|--- | ---\n",
        "`replicate 1`|SRR1910733 | SRR1910734\n",
        "`replicate 2`| SRR1910737 | SRR1910738\n",
        "\n"
      ]
    },
    {
      "cell_type": "markdown",
      "metadata": {
        "id": "R_JHGJmh97kF",
        "colab_type": "text"
      },
      "source": [
        "---\n",
        "#Obtaining  FASTQ files\n",
        "\n",
        "---\n",
        "As previously mentioned, FASTQ are stored as SRA files, we have to:\n",
        "1. access to SRA samples \n",
        "2. convert to FASTQ\n",
        "---\n",
        "We need fastq-dump from the NCBI's utility collection.\n",
        "\n",
        "The following code chunk will get the software we need directly from NCBI FTP site.\n",
        "\n",
        "*Run the cell to execute the code*.\n",
        "\n"
      ]
    },
    {
      "cell_type": "code",
      "metadata": {
        "id": "dDdCSJs0QhYi",
        "colab_type": "code",
        "colab": {}
      },
      "source": [
        "#1\n",
        "#the tool to convert is included in the package sratoolkit\n",
        "! wget http://ftp-trace.ncbi.nlm.nih.gov/sra/sdk/current/sratoolkit.current-ubuntu64.tar.gz\n",
        "#the package is gzipped and packed with tar\n",
        "#un-tar and un-gzipp the package\n",
        "! tar -zxvf sratoolkit.current-ubuntu64.tar.gz\n",
        "! rm -rf sample_data/"
      ],
      "execution_count": 0,
      "outputs": []
    },
    {
      "cell_type": "markdown",
      "metadata": {
        "id": "QFN8lbA7RdHm",
        "colab_type": "text"
      },
      "source": [
        "###Test\n",
        "To test the tool we will ask to extract the first two cluster from the FASTQ. \n",
        "\n",
        "The operation is done ***'on-the-fly'*** by querying SRA archive and retrieving the contents directly in FASTQ format.\n"
      ]
    },
    {
      "cell_type": "code",
      "metadata": {
        "id": "v2kF42aVR5vX",
        "colab_type": "code",
        "colab": {}
      },
      "source": [
        "#test the tool\n",
        "! sratoolkit.2.9.6-1-ubuntu64/bin/fastq-dump --stdout -X 2 SRR1910733\n",
        "#remove the tar package no longer needed\n",
        "! rm sratoolkit.current-ubuntu64.tar.gz\n"
      ],
      "execution_count": 0,
      "outputs": []
    },
    {
      "cell_type": "markdown",
      "metadata": {
        "id": "VcDxyjjcSBXS",
        "colab_type": "text"
      },
      "source": [
        "---\n",
        "#Inspect FASTQ from experiment SRP056098\n",
        "---\n",
        "To do this action we must provide fastq-dump with the four accession ID (SRR...) for the two replicate condition IFNg and Mock.\n",
        "\n",
        "We can inspect the first two cluster for each of the sample, by printing it on screen.\n",
        "\n",
        "Take some time to understand the structure of theese files. You should be able to identify ***nucleic acid sequence*** and the corresponding sequence ***Phred Score*** in ASCII text."
      ]
    },
    {
      "cell_type": "code",
      "metadata": {
        "id": "VV0dgBOYR7IB",
        "colab_type": "code",
        "colab": {}
      },
      "source": [
        "! sratoolkit.2.9.6-1-ubuntu64/bin/fastq-dump -X 2 --stdout  SRR1910733 #Mock RNA - replicate 1\n",
        "! sratoolkit.2.9.6-1-ubuntu64/bin/fastq-dump -X 2 --stdout  SRR1910734 #IFNg RNA - replicate 1\n",
        "! sratoolkit.2.9.6-1-ubuntu64/bin/fastq-dump -X 2 --stdout  SRR1910737 #Mock RNA - replicate 2\n",
        "! sratoolkit.2.9.6-1-ubuntu64/bin/fastq-dump -X 2 --stdout  SRR1910738 #IFNg RNA - replicate 2"
      ],
      "execution_count": 0,
      "outputs": []
    },
    {
      "cell_type": "markdown",
      "metadata": {
        "id": "MCb3ODYnzNli",
        "colab_type": "text"
      },
      "source": [
        "\n",
        "---\n",
        "#Save FASTQ on local runtime disk\n",
        "\n",
        "The next code will download a subset of 4M reads from each sample to the remote disk. \n",
        "\n",
        "***The operation should take from 8 to 15 minutes depending on network load.***\n",
        "\n",
        "\n"
      ]
    },
    {
      "cell_type": "markdown",
      "metadata": {
        "id": "O_Tfl_jH3hQg",
        "colab_type": "text"
      },
      "source": [
        "While files are processed take a look at this comics, which will introduce us to the concept of significance in hypotesis testing.\n",
        "[XKCD Significant](https://xkcd.com/882/)"
      ]
    },
    {
      "cell_type": "code",
      "metadata": {
        "id": "0NSHrWfXvEJX",
        "colab_type": "code",
        "colab": {}
      },
      "source": [
        "! time sratoolkit.2.9.6-1-ubuntu64/bin/fastq-dump --gzip -N 1000000 -X 5000000 -O FASTQ  SRR1910733 #Mock RNA - replicate 1\n",
        "! time sratoolkit.2.9.6-1-ubuntu64/bin/fastq-dump --gzip -N 1000000 -X 5000000 -O FASTQ  SRR1910734 #IFNg RNA - replicate 1\n",
        "! time sratoolkit.2.9.6-1-ubuntu64/bin/fastq-dump --gzip -N 1000000 -X 5000000 -O FASTQ  SRR1910737 #Mock RNA - replicate 2\n",
        "! time sratoolkit.2.9.6-1-ubuntu64/bin/fastq-dump --gzip -N 1000000 -X 5000000 -O FASTQ  SRR1910738 #IFNg RNA - replicate 2 "
      ],
      "execution_count": 0,
      "outputs": []
    },
    {
      "cell_type": "markdown",
      "metadata": {
        "id": "ugPcxo27bCbG",
        "colab_type": "text"
      },
      "source": [
        "---\n",
        "#Transcript Abundance quantification\n",
        "---\n",
        "Now that we have the raw data on the disk, we can take the next step to quantify transcript abundance from sequenced reads.\n",
        "\n",
        "We will adopt a procedure termed ***Pseudo-Alignment*** that will rely on a transcriptome index to assign sequence reads to transcripts (and gene).\n",
        "\n",
        "*You can find more detail on the* [Kallisto web page](https://pachterlab.github.io/kallisto/about)\n"
      ]
    },
    {
      "cell_type": "markdown",
      "metadata": {
        "id": "NS7788tGkBef",
        "colab_type": "text"
      },
      "source": [
        "\n",
        "###Download and install **Kallisto**\n"
      ]
    },
    {
      "cell_type": "code",
      "metadata": {
        "id": "6zHfTbfsbl7Q",
        "colab_type": "code",
        "colab": {}
      },
      "source": [
        "!wget https://github.com/pachterlab/kallisto/releases/download/v0.46.0/kallisto_linux-v0.46.0.tar.gz\n",
        "!tar -xf kallisto_linux-v0.46.0.tar.gz\n",
        "!cp -nv kallisto/kallisto /usr/local/bin/\n"
      ],
      "execution_count": 0,
      "outputs": []
    },
    {
      "cell_type": "markdown",
      "metadata": {
        "id": "CG5OayGvbxY2",
        "colab_type": "text"
      },
      "source": [
        "###Download **reference** fasta and GTF files\n",
        "\n",
        "**The operation should take around 3 minutes.**"
      ]
    },
    {
      "cell_type": "code",
      "metadata": {
        "id": "FWKCoI0P9gt-",
        "colab_type": "code",
        "colab": {}
      },
      "source": [
        "! time wget https://github.com/pachterlab/kallisto-transcriptome-indices/releases/download/ensembl-96/homo_sapiens.tar.gz\n",
        "! time tar --overwrite -xvf homo_sapiens.tar.gz\n",
        "#! time cp homo_sapiens.tar.gz /content/gdrive/My\\ Drive/Colab\\ Notebooks/"
      ],
      "execution_count": 0,
      "outputs": []
    },
    {
      "cell_type": "markdown",
      "metadata": {
        "id": "3x3uIXL2cAuA",
        "colab_type": "text"
      },
      "source": [
        "###Check the downloaded files"
      ]
    },
    {
      "cell_type": "code",
      "metadata": {
        "id": "AQNIKk-vcFqA",
        "colab_type": "code",
        "colab": {}
      },
      "source": [
        "! ls \n"
      ],
      "execution_count": 0,
      "outputs": []
    },
    {
      "cell_type": "markdown",
      "metadata": {
        "id": "2GnfBDw6OJf0",
        "colab_type": "text"
      },
      "source": [
        "###Build the index\n",
        "We can now create an index from the fasta genome\n",
        "\n",
        "\n",
        "`#Not Run`\n",
        "\n",
        "`time kallisto index -i Homo_sapiens.GRCh38.cdna.all.idx -k 31 Homo_sapiens.GRCh38.cdna.all.fa`\n",
        "\n",
        "Since it is a computational intensive step\n",
        "we prefer to use the ***precomputed index*** we prepared for this class."
      ]
    },
    {
      "cell_type": "code",
      "metadata": {
        "id": "n5hTEiHCfETg",
        "colab_type": "code",
        "colab": {}
      },
      "source": [
        "#make a link to index in the current directory\n",
        "! ln -s  homo_sapiens/* ."
      ],
      "execution_count": 0,
      "outputs": []
    },
    {
      "cell_type": "markdown",
      "metadata": {
        "id": "y1Q9NBuWdtLn",
        "colab_type": "text"
      },
      "source": [
        "###Start quantifying abundaces with Kallisto Quant\n",
        "\n",
        "**The operation should take between 6 to 8 minutes to process 16M reads**"
      ]
    },
    {
      "cell_type": "code",
      "metadata": {
        "id": "3EJNeV55wJhO",
        "colab_type": "code",
        "colab": {}
      },
      "source": [
        "!time kallisto quant --plaintext --single -l 150 -s 15 -i transcriptome.idx -g Homo_sapiens.GRCh38.96.gtf -t 2 -o SRR1910733_out/ FASTQ/SRR1910733.fastq.gz\n",
        "!time kallisto quant --plaintext --single -l 150 -s 15 -i transcriptome.idx -g Homo_sapiens.GRCh38.96.gtf -t 2 -o SRR1910734_out/ FASTQ/SRR1910734.fastq.gz\n",
        "!time kallisto quant --plaintext --single -l 150 -s 15 -i transcriptome.idx -g Homo_sapiens.GRCh38.96.gtf -t 2 -o SRR1910737_out/ FASTQ/SRR1910737.fastq.gz\n",
        "!time kallisto quant --plaintext --single -l 150 -s 15 -i transcriptome.idx -g Homo_sapiens.GRCh38.96.gtf -t 2 -o SRR1910738_out/ FASTQ/SRR1910738.fastq.gz"
      ],
      "execution_count": 0,
      "outputs": []
    },
    {
      "cell_type": "markdown",
      "metadata": {
        "id": "IqubgDraaLg6",
        "colab_type": "text"
      },
      "source": [
        "### ***optional*** copy the abundance results to gDrive"
      ]
    },
    {
      "cell_type": "code",
      "metadata": {
        "id": "pI5Iw11lCbhb",
        "colab_type": "code",
        "colab": {}
      },
      "source": [
        "!cp -rnv SRR*_out /content/gdrive/My\\ Drive/Colab\\ Notebooks/"
      ],
      "execution_count": 0,
      "outputs": []
    },
    {
      "cell_type": "markdown",
      "metadata": {
        "colab_type": "text",
        "id": "jskKFQ7GaT1b"
      },
      "source": [
        "### ***optional*** copy the abundance results to local drive"
      ]
    },
    {
      "cell_type": "code",
      "metadata": {
        "id": "5FgfncE0ce5k",
        "colab_type": "code",
        "colab": {}
      },
      "source": [
        "! mkdir KallistoResults \n",
        "! cp -R SRR*out KallistoResults\n",
        "! tar -zcvf KallistoResults.tar.gz KallistoResults"
      ],
      "execution_count": 0,
      "outputs": []
    },
    {
      "cell_type": "code",
      "metadata": {
        "colab_type": "code",
        "id": "jPYtww-Xah5B",
        "colab": {}
      },
      "source": [
        "from google.colab import files\n",
        "\n",
        "files.download('KallistoResults.tar.gz')"
      ],
      "execution_count": 0,
      "outputs": []
    },
    {
      "cell_type": "markdown",
      "metadata": {
        "id": "riYkB4BnCJ0o",
        "colab_type": "text"
      },
      "source": [
        "#Inspect Abundance files\n",
        "\n",
        "We can take a quick look of the output we've generated in the previous step.\n",
        "\n",
        "For each fastq a directory have been created.\n",
        "\n",
        "In each directory we can list three files:\n",
        "- abundance.tsv\n",
        "- run_info.json"
      ]
    },
    {
      "cell_type": "code",
      "metadata": {
        "id": "4Zlx0j2ZC3ra",
        "colab_type": "code",
        "colab": {}
      },
      "source": [
        "!ls *_out/"
      ],
      "execution_count": 0,
      "outputs": []
    },
    {
      "cell_type": "markdown",
      "metadata": {
        "id": "QDZtTmIt78Fh",
        "colab_type": "text"
      },
      "source": [
        "###Create a single TSV file that has the TPM abundance estimates for all four samples\n",
        "\n",
        "This chunk of code grabs all the 'abundance' files from the previous quantification step and put them in a single huge table with all the transcripts from the four samples."
      ]
    },
    {
      "cell_type": "code",
      "metadata": {
        "id": "QA36YSGEp-5Z",
        "colab_type": "code",
        "colab": {}
      },
      "source": [
        "! paste *_out/abundance.tsv | cut -f 1,2,5,10,15,20 > transcript_tpms_all_samples.tsv\n",
        "! ls -1 *_out/abundance.tsv | perl -ne 'chomp $_; if ($_ =~ /(\\S+)\\/abundance\\.tsv/){print \"\\t$1\"}' | perl -ne 'print \"target_id\\tlength$_\\n\"' > header.tsv\n",
        "! cat header.tsv transcript_tpms_all_samples.tsv | grep -v \"tpm\" > transcript_tpms_all_samples.tsv2\n",
        "! mv transcript_tpms_all_samples.tsv2 transcript_tpms_all_samples.tsv\n",
        "! rm -f header.tsv"
      ],
      "execution_count": 0,
      "outputs": []
    },
    {
      "cell_type": "code",
      "metadata": {
        "id": "vnmsdAXVEYko",
        "colab_type": "code",
        "colab": {}
      },
      "source": [
        "#copy on gDrive\n",
        "! cp transcript_tpms_all_samples.tsv /content/gdrive/My\\ Drive/Colab\\ Notebooks/"
      ],
      "execution_count": 0,
      "outputs": []
    },
    {
      "cell_type": "markdown",
      "metadata": {
        "id": "uQAHAXb08CQA",
        "colab_type": "text"
      },
      "source": [
        "###Take a look at the final kallisto result file we created:"
      ]
    },
    {
      "cell_type": "code",
      "metadata": {
        "id": "Y4Up1cwj8FXU",
        "colab_type": "code",
        "colab": {}
      },
      "source": [
        "! head transcript_tpms_all_samples.tsv\n",
        "! sort -nr -k 4 transcript_tpms_all_samples.tsv| head\n"
      ],
      "execution_count": 0,
      "outputs": []
    },
    {
      "cell_type": "markdown",
      "metadata": {
        "id": "UChqUc145y3q",
        "colab_type": "text"
      },
      "source": [
        "#Differential analysis with R"
      ]
    },
    {
      "cell_type": "markdown",
      "metadata": {
        "id": "4mvi54a2DO-a",
        "colab_type": "text"
      },
      "source": [
        "##Prepare environment and install needed packages\n",
        "\n",
        ">we will see several warnings during installation.\n",
        ">>we expect it and we can ignore them."
      ]
    },
    {
      "cell_type": "markdown",
      "metadata": {
        "id": "fss2UJoQUYRD",
        "colab_type": "text"
      },
      "source": [
        "###Load python package to interpret R commands"
      ]
    },
    {
      "cell_type": "code",
      "metadata": {
        "id": "tLWC0Ujy5Z32",
        "colab_type": "code",
        "colab": {}
      },
      "source": [
        "%load_ext rpy2.ipython"
      ],
      "execution_count": 0,
      "outputs": []
    },
    {
      "cell_type": "markdown",
      "metadata": {
        "id": "8_plHEJTUfsG",
        "colab_type": "text"
      },
      "source": [
        "###Load R environment and use BiocInstall to retrieve *limma* and *tximport*"
      ]
    },
    {
      "cell_type": "code",
      "metadata": {
        "id": "JLXd8Bn96Amg",
        "colab_type": "code",
        "colab": {}
      },
      "source": [
        "%%R\n",
        "ow<-options(\"warn\")\n",
        "options(warn = -1)\n",
        "install.packages(\"BiocManager\")\n",
        "options(warn = -1)\n",
        "BiocManager::install(c(\"limma\",\"tximport\"),update=FALSE,checkBuilt=FALSE)"
      ],
      "execution_count": 0,
      "outputs": []
    },
    {
      "cell_type": "markdown",
      "metadata": {
        "id": "w2vox-NoUsMI",
        "colab_type": "text"
      },
      "source": [
        "###Use bash interface to R to install required package "
      ]
    },
    {
      "cell_type": "code",
      "metadata": {
        "id": "c0FQdnPBEm0Z",
        "colab_type": "code",
        "colab": {}
      },
      "source": [
        "! wget https://cran.r-project.org/src/contrib/locfit_1.5-9.1.tar.gz\n",
        "! wget https://bioconductor.org/packages/release/bioc/src/contrib/edgeR_3.28.0.tar.gz\n",
        "! wget https://cran.r-project.org/src/contrib/statmod_1.4.32.tar.gz\n",
        "\n",
        "! R CMD INSTALL locfit_1.5-9.1.tar.gz\n",
        "! R CMD INSTALL statmod_1.4.32.tar.gz\n",
        "! R CMD INSTALL edgeR_3.28.0.tar.gz"
      ],
      "execution_count": 0,
      "outputs": []
    },
    {
      "cell_type": "markdown",
      "metadata": {
        "id": "lJ2JSP68GvuT",
        "colab_type": "text"
      },
      "source": [
        "##DGE Analysis"
      ]
    },
    {
      "cell_type": "markdown",
      "metadata": {
        "id": "vk788bmYGX4j",
        "colab_type": "text"
      },
      "source": [
        "###Load packages in R"
      ]
    },
    {
      "cell_type": "code",
      "metadata": {
        "id": "rXIdYOE57I-1",
        "colab_type": "code",
        "colab": {}
      },
      "source": [
        "%%R\n",
        "library(\"limma\")\n",
        "library(\"tximport\")\n",
        "library(\"edgeR\")\n",
        "sessionInfo()"
      ],
      "execution_count": 0,
      "outputs": []
    },
    {
      "cell_type": "markdown",
      "metadata": {
        "id": "-4BxgSDSGggp",
        "colab_type": "text"
      },
      "source": [
        "###create sample data frame"
      ]
    },
    {
      "cell_type": "code",
      "metadata": {
        "id": "JL_FdE0wwnUS",
        "colab_type": "code",
        "colab": {}
      },
      "source": [
        "%%R\n",
        "samples <- data.frame(Sample=matrix(c(\"SRR1910733\",\"SRR1910734\",\"SRR1910737\",\"SRR1910738\")),\n",
        "Treatment=matrix(c(\"Mock\",\"IFNg\",\"Mock\",\"IFNg\")))\n",
        "\n",
        "samples$Treatment <- as.factor(samples$Treatment)\n",
        "samples$Treatment <- relevel(samples$Treatment,ref=\"Mock\")\n",
        "samples"
      ],
      "execution_count": 0,
      "outputs": []
    },
    {
      "cell_type": "markdown",
      "metadata": {
        "id": "2zAk0qgwG7Xs",
        "colab_type": "text"
      },
      "source": [
        "###import counts and gene table"
      ]
    },
    {
      "cell_type": "code",
      "metadata": {
        "id": "GEtfqmm05O1j",
        "colab_type": "code",
        "colab": {}
      },
      "source": [
        "%%R\n",
        "tx2gene <- read.table(\"transcripts_to_genes.txt\")\n",
        "head(tx2gene)\n",
        "#define were are the transcript abundances computed with Kallisto\n",
        "files <- file.path(paste(samples$Sample,\"out\",sep=\"_\"), \"abundance.tsv\")\n",
        "names(files) <- samples$Sample\n",
        "files\n",
        "all(file.exists(files))\n",
        "#use tximport to read in the transcript abundances computed with Kallisto\n",
        "txi <- tximport(files, type = \"kallisto\", tx2gene = tx2gene[,1-3], txOut = FALSE,countsFromAbundance=\"lengthScaledTPM\")\n",
        "dir<-getwd()\n",
        "#create a contrast matrix\n",
        "design<-model.matrix(~Treatment, data=samples)\n",
        "design\n"
      ],
      "execution_count": 0,
      "outputs": []
    },
    {
      "cell_type": "markdown",
      "metadata": {
        "id": "fl8T1sgnHoMC",
        "colab_type": "text"
      },
      "source": [
        "###Inspect global counts statistics"
      ]
    },
    {
      "cell_type": "code",
      "metadata": {
        "id": "M4v_aAMhAu_U",
        "colab_type": "code",
        "colab": {}
      },
      "source": [
        "%%R\n",
        "names(txi)\n",
        "summary(txi$counts)\n",
        "boxplot((txi$counts),outline=FALSE,col=c(\"magenta\",\"palegreen\"),ylab=(\"TPM\"))\n"
      ],
      "execution_count": 0,
      "outputs": []
    },
    {
      "cell_type": "markdown",
      "metadata": {
        "id": "3bHUYZw6IFAs",
        "colab_type": "text"
      },
      "source": [
        "###Create the DGEList object and normalize and using *limma voom*"
      ]
    },
    {
      "cell_type": "code",
      "metadata": {
        "id": "olzzbRcAjbBd",
        "colab_type": "code",
        "colab": {}
      },
      "source": [
        "%%R\n",
        "y<-DGEList(txi$counts)\n",
        "  y$genes<-tx2gene\n",
        "#select only informative genes  \n",
        "  keep <- filterByExpr(y)\n",
        "#transform in log2 Count per Million\n",
        "y <- cpm(y[keep,],log=TRUE)\n",
        "  n<-calcNormFactors(y,method = \"RLE\")\n",
        "#Transform RNA-Seq Data Ready for Linear Modelling\n",
        "v <- voom(y, design, plot=TRUE)"
      ],
      "execution_count": 0,
      "outputs": []
    },
    {
      "cell_type": "markdown",
      "metadata": {
        "id": "pGhDCa_yWzbz",
        "colab_type": "text"
      },
      "source": [
        "###Plot expression statistics and samples Multi Dimensional Scaling "
      ]
    },
    {
      "cell_type": "code",
      "metadata": {
        "id": "pgCXWoa0jcp8",
        "colab_type": "code",
        "colab": {}
      },
      "source": [
        "%%R\n",
        "boxplot((v$E),outline=FALSE,col=c(\"magenta\",\"palegreen\"),ylab=(\"Normalized TPM\"))\n",
        "MDS<-plotMDS(v$E,col=c(\"magenta\",\"darkgreen\"))\n"
      ],
      "execution_count": 0,
      "outputs": []
    },
    {
      "cell_type": "code",
      "metadata": {
        "id": "D025OxWEu2rq",
        "colab_type": "code",
        "colab": {}
      },
      "source": [
        "%%R\n",
        "# Now we use the voom (log-norm transformed abundances) to produce linear models\n",
        "# using the design. In this way we will have also the coefficients (logFC) for \n",
        "# our design\n",
        "fit <- lmFit(v, design)\n",
        "# And use the Bayesian function to estimate variance, robustly and have the\n",
        "# p.values calculated\n",
        "fit <- eBayes(fit, robust=TRUE)\n",
        "fit$genes <- tx2gene\n",
        "## End(Not run)\n",
        "## The topTable function will produce a table with the results of the DEG, that\n",
        "## we could filter with our favourite cut offs, of either p.value, FDR (p.adj \n",
        "## with method \"BH\")\n",
        "## or log2FC\n",
        "#help(topTable)\n",
        "top.Table <- topTable(fit,number=Inf,adjust.method=\"BH\", p.value=0.05,\n",
        "                      genelist=fit$genes)\n",
        "\n",
        "full.Table <- topTable(fit,number=Inf,adjust.method=\"BH\", p.value=1,\n",
        "                      genelist=fit$genes)\n",
        "\n",
        "# Save the table in csv\n",
        "write.table(top.Table,file=\"TopTable.csv\",sep=\";\",row.names=TRUE,col.names=T,quote=F)\n",
        "write.table(full.Table,file=gzfile(\"FullTable.csv.gz\"),sep=\";\",row.names=TRUE,col.names=T,quote=F)\n",
        "\n",
        "p.value.cutoff = 0.05\n",
        "sigs.pval = ifelse(fit$p.value[,\"TreatmentIFNg\"] <= p.value.cutoff, \"red\",\"blue\")\n",
        "sigs.fdr = ifelse(p.adjust(fit$p.value[,\"TreatmentIFNg\"],\"BH\") < p.value.cutoff,\"red\",\"blue\")\n",
        "\n",
        "\n",
        "plot(main=\"MAplot Pval significant\",\n",
        "     x=fit$Amean,\n",
        "     y=fit$coefficient[,2],\n",
        "     xlab=\"logNormExp\",ylab=\"log2FC\",col=sigs.pval,cex=1)\n",
        "abline(h=0,lty=2,col=\"red\")\n",
        "legend(\"topright\",legend=c(paste0(\"p.value <\",p.value.cutoff)),fill=c(\"red\",\"blue\"))\n",
        "\n",
        "plot(main=\"MAplot FDR significant\",\n",
        "     x=fit$Amean,\n",
        "     y=fit$coefficient[,2],\n",
        "     xlab=\"logNormExp\",ylab=\"log2FC\",col=sigs.fdr,cex=1)\n",
        "abline(h=0,lty=2,col=\"red\")\n",
        "legend(\"topright\",legend=c(paste0(\"FDR <\",p.value.cutoff)),fill=c(\"red\",\"blue\"))\n",
        "\n"
      ],
      "execution_count": 0,
      "outputs": []
    },
    {
      "cell_type": "code",
      "metadata": {
        "id": "hyk1CwGuiHTc",
        "colab_type": "code",
        "colab": {}
      },
      "source": [
        "%%R\n",
        "volcanoplot(fit,coef=\"TreatmentIFNg\",col=sigs.fdr,highlight=20,names=row.names(fit),color=c(\"red\",\"blue\"))\n",
        "topTable(fit,n=20)[,-c(1,2,3)]"
      ],
      "execution_count": 0,
      "outputs": []
    },
    {
      "cell_type": "markdown",
      "metadata": {
        "id": "W8BwW39iYIpW",
        "colab_type": "text"
      },
      "source": [
        "###Copy the table of results on gDrive for further usage"
      ]
    },
    {
      "cell_type": "code",
      "metadata": {
        "id": "nd1CDnAd3O9e",
        "colab_type": "code",
        "colab": {}
      },
      "source": [
        "! cp TopTable.csv /content/gdrive/My\\ Drive/Colab\\ Notebooks/\n",
        "! cp FullTable.csv.gz /content/gdrive/My\\ Drive/Colab\\ Notebooks/\n"
      ],
      "execution_count": 0,
      "outputs": []
    },
    {
      "cell_type": "markdown",
      "metadata": {
        "id": "HfizdxAXYfRj",
        "colab_type": "text"
      },
      "source": [
        "###Save the table of results on gDrive for further usage"
      ]
    },
    {
      "cell_type": "code",
      "metadata": {
        "id": "Ai4dcKVtYUn-",
        "colab_type": "code",
        "colab": {}
      },
      "source": [
        "from google.colab import files\n",
        "\n",
        "files.download('TopTable.csv')\n",
        "files.download('FullTable.csv.gz')\n"
      ],
      "execution_count": 0,
      "outputs": []
    }
  ]
}